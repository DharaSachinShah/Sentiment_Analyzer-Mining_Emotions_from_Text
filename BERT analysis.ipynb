{
 "cells": [
  {
   "cell_type": "code",
   "execution_count": null,
   "id": "468b32c3",
   "metadata": {},
   "outputs": [
    {
     "name": "stderr",
     "output_type": "stream",
     "text": [
      "c:\\Users\\shah4\\anaconda3\\lib\\site-packages\\pandas\\core\\arrays\\masked.py:60: UserWarning: Pandas requires version '1.3.6' or newer of 'bottleneck' (version '1.3.5' currently installed).\n",
      "  from pandas.core import (\n"
     ]
    },
    {
     "data": {
      "image/png": "[encoded data removed]",
      "text/plain": [
       "<Figure size 640x480 with 1 Axes>"
      ]
     },
     "metadata": {},
     "output_type": "display_data"
    },
    {
     "name": "stderr",
     "output_type": "stream",
     "text": [
      "C:\\Users\\shah4\\AppData\\Local\\Temp\\ipykernel_46032\\2055845870.py:34: MarkupResemblesLocatorWarning: The input looks more like a filename than markup. You may want to open this file and pass the filehandle into Beautiful Soup.\n",
      "  text = BeautifulSoup(text, \"html.parser\").get_text()       # remove HTML\n"
     ]
    },
    {
     "name": "stdout",
     "output_type": "stream",
     "text": [
      "Accuracy: 0.863480838412891\n",
      "              precision    recall  f1-score   support\n",
      "\n",
      "    negative       0.73      0.66      0.69     16407\n",
      "     neutral       0.52      0.17      0.26      8528\n",
      "    positive       0.89      0.97      0.93     88756\n",
      "\n",
      "    accuracy                           0.86    113691\n",
      "   macro avg       0.71      0.60      0.63    113691\n",
      "weighted avg       0.84      0.86      0.84    113691\n",
      "\n"
     ]
    }
   ],
   "source": [
    "import pandas as pd\n",
    "import re\n",
    "import string\n",
    "from bs4 import BeautifulSoup\n",
    "import matplotlib.pyplot as plt\n",
    "import seaborn as sns\n",
    "\n",
    "# Step 1: Load dataset (adjust nrows as needed)\n",
    "df = pd.read_csv(\"Reviews.csv\")\n",
    "df = df[['Score', 'Text']].dropna()\n",
    "\n",
    "# Step 2: Label sentiment\n",
    "def label_sentiment(score):\n",
    "    if score in [4, 5]:\n",
    "        return 'positive'\n",
    "    elif score == 3:\n",
    "        return 'neutral'\n",
    "    else:\n",
    "        return 'negative'\n",
    "\n",
    "df['sentiment'] = df['Score'].apply(label_sentiment)\n",
    "\n",
    "# Step 3: Explore class distribution\n",
    "sns.countplot(x='sentiment', data=df)\n",
    "plt.title(\"Sentiment Distribution\")\n",
    "plt.show()\n",
    "\n",
    "# Step 4: Use sklearn's built-in stopwords\n",
    "from sklearn.feature_extraction.text import ENGLISH_STOP_WORDS\n",
    "stop_words = ENGLISH_STOP_WORDS\n",
    "\n",
    "# Step 5: Text cleaning\n",
    "def clean_text(text):\n",
    "    text = BeautifulSoup(text, \"html.parser\").get_text()       # remove HTML\n",
    "    text = text.lower()                                        # lowercase\n",
    "    text = re.sub(r'\\d+', '', text)                            # remove numbers\n",
    "    text = text.translate(str.maketrans('', '', string.punctuation))  # remove punctuation\n",
    "    text = ' '.join(word for word in text.split() if word not in stop_words)  # remove stopwords\n",
    "    return text\n",
    "\n",
    "df['cleaned_text'] = df['Text'].apply(clean_text)\n",
    "\n",
    "# Step 6: Encode labels\n",
    "from sklearn.preprocessing import LabelEncoder\n",
    "le = LabelEncoder()\n",
    "df['label'] = le.fit_transform(df['sentiment'])  # 0 = negative, 1 = neutral, 2 = positive\n",
    "\n",
    "# Step 7: Vectorization using TF-IDF\n",
    "from sklearn.feature_extraction.text import TfidfVectorizer\n",
    "\n",
    "tfidf = TfidfVectorizer(max_features=5000)\n",
    "X = tfidf.fit_transform(df['cleaned_text'])\n",
    "y = df['label']\n",
    "\n",
    "# Step 8: Train-test split\n",
    "from sklearn.model_selection import train_test_split\n",
    "\n",
    "X_train, X_test, y_train, y_test = train_test_split(\n",
    "    X, y, test_size=0.2, random_state=42, stratify=y\n",
    ")\n",
    "\n",
    "# Step 9: Train Logistic Regression\n",
    "from sklearn.linear_model import LogisticRegression\n",
    "from sklearn.metrics import accuracy_score, classification_report\n",
    "\n",
    "model = LogisticRegression(max_iter=1000)\n",
    "model.fit(X_train, y_train)\n",
    "y_pred = model.predict(X_test)\n",
    "\n",
    "# Step 10: Evaluate\n",
    "print(\"Accuracy:\", accuracy_score(y_test, y_pred))\n",
    "print(classification_report(y_test, y_pred, target_names=le.classes_))\n"
   ]
  },
  {
   "cell_type": "markdown",
   "id": "82ec2b66",
   "metadata": {},
   "source": [
    "# BERT Sentiment Classifier"
   ]
  },
  {
   "cell_type": "markdown",
   "id": "6b0b70e0",
   "metadata": {},
   "source": [
    "We use the Hugging Face Transformers library, along with the cleaned and labeled data."
   ]
  },
  {
   "cell_type": "code",
   "execution_count": 2,
   "id": "7e63b8ab",
   "metadata": {},
   "outputs": [
    {
     "name": "stderr",
     "output_type": "stream",
     "text": [
      "ERROR: pip's dependency resolver does not currently take into account all the packages that are installed. This behaviour is the source of the following dependency conflicts.\n",
      "accelerate 1.8.1 requires huggingface_hub>=0.21.0, but you have huggingface-hub 0.16.4 which is incompatible.\n"
     ]
    }
   ],
   "source": [
    "!pip install transformers datasets -q"
   ]
  },
  {
   "cell_type": "code",
   "execution_count": 3,
   "id": "c2410a60",
   "metadata": {},
   "outputs": [],
   "source": [
    "from datasets import Dataset\n",
    "import pandas as pd\n",
    "\n",
    "# Optional: use a smaller sample to speed up training\n",
    "df_small = df[['cleaned_text', 'label']].dropna().sample(10000, random_state=42)\n",
    "\n",
    "# Convert to Hugging Face Dataset\n",
    "dataset = Dataset.from_pandas(df_small)"
   ]
  },
  {
   "cell_type": "code",
   "execution_count": 19,
   "id": "2e7ae735",
   "metadata": {},
   "outputs": [
    {
     "data": {
      "application/vnd.jupyter.widget-view+json": {
       "model_id": "ce7e57c5fe8a45d694603ba84a425b90",
       "version_major": 2,
       "version_minor": 0
      },
      "text/plain": [
       "Map:   0%|          | 0/10000 [00:00<?, ? examples/s]"
      ]
     },
     "metadata": {},
     "output_type": "display_data"
    }
   ],
   "source": [
    "from transformers import BertTokenizerFast\n",
    "\n",
    "tokenizer = BertTokenizerFast.from_pretrained('bert-base-uncased')\n",
    "\n",
    "def tokenize(batch):\n",
    "    return tokenizer(batch['cleaned_text'], truncation=True) #removed padding = true from func\n",
    "\n",
    "tokenized_dataset = dataset.map(tokenize, batched=True)"
   ]
  },
  {
   "cell_type": "code",
   "execution_count": 21,
   "id": "4386b7d2",
   "metadata": {},
   "outputs": [],
   "source": [
    "from transformers import DataCollatorWithPadding\n",
    "\n",
    "data_collator = DataCollatorWithPadding(tokenizer=tokenizer)"
   ]
  },
  {
   "cell_type": "code",
   "execution_count": 20,
   "id": "767191e3",
   "metadata": {},
   "outputs": [],
   "source": [
    "tokenized_dataset = tokenized_dataset.train_test_split(test_size=0.2)"
   ]
  },
  {
   "cell_type": "code",
   "execution_count": null,
   "id": "9c73c6e6",
   "metadata": {},
   "outputs": [],
   "source": [
    "%pip install transformers==4.31.0\n",
    "%pip install accelerate==0.20.3\n",
    "%pip install huggingface_hub==0.16.4"
   ]
  },
  {
   "cell_type": "code",
   "execution_count": 22,
   "id": "8090bef2",
   "metadata": {},
   "outputs": [
    {
     "name": "stderr",
     "output_type": "stream",
     "text": [
      "Some weights of BertForSequenceClassification were not initialized from the model checkpoint at bert-base-uncased and are newly initialized: ['classifier.bias', 'classifier.weight']\n",
      "You should probably TRAIN this model on a down-stream task to be able to use it for predictions and inference.\n"
     ]
    }
   ],
   "source": [
    "from transformers import BertForSequenceClassification\n",
    "\n",
    "model = BertForSequenceClassification.from_pretrained('bert-base-uncased', num_labels=3)"
   ]
  },
  {
   "cell_type": "code",
   "execution_count": 28,
   "id": "35bc5251",
   "metadata": {},
   "outputs": [],
   "source": [
    "from transformers import TrainingArguments, Trainer\n",
    "\n",
    "training_args = TrainingArguments(\n",
    "    output_dir=\"./results\",\n",
    "    num_train_epochs=2,\n",
    "    per_device_train_batch_size=8,\n",
    "    per_device_eval_batch_size=8,\n",
    "    evaluation_strategy=\"epoch\",\n",
    "    logging_dir='./logs',\n",
    "    logging_steps=10,\n",
    ")\n",
    "\n",
    "# trainer = Trainer(\n",
    "#     model=model,\n",
    "#     args=training_args,\n",
    "#     train_dataset=tokenized_dataset['train'],\n",
    "#     eval_dataset=tokenized_dataset['test'],\n",
    "# )\n",
    "trainer = Trainer(\n",
    "    model=model,\n",
    "    args=training_args,\n",
    "    train_dataset=tokenized_dataset['train'],\n",
    "    eval_dataset=tokenized_dataset['test'],\n",
    "    tokenizer=tokenizer,\n",
    "    data_collator=data_collator  # ✅ THIS LINE FIXES THE ERROR\n",
    ")"
   ]
  },
  {
   "cell_type": "code",
   "execution_count": 24,
   "id": "420da567",
   "metadata": {},
   "outputs": [
    {
     "data": {
      "application/vnd.jupyter.widget-view+json": {
       "model_id": "a31443e26f2e4250a1815185f2b5c19f",
       "version_major": 2,
       "version_minor": 0
      },
      "text/plain": [
       "  0%|          | 0/2000 [00:00<?, ?it/s]"
      ]
     },
     "metadata": {},
     "output_type": "display_data"
    },
    {
     "name": "stderr",
     "output_type": "stream",
     "text": [
      "You're using a BertTokenizerFast tokenizer. Please note that with a fast tokenizer, using the `__call__` method is faster than using a method to encode the text followed by a call to the `pad` method to get a padded encoding.\n"
     ]
    },
    {
     "name": "stdout",
     "output_type": "stream",
     "text": [
      "{'loss': 0.7439, 'learning_rate': 4.975e-05, 'epoch': 0.01}\n",
      "{'loss': 0.8527, 'learning_rate': 4.9500000000000004e-05, 'epoch': 0.02}\n",
      "{'loss': 0.6825, 'learning_rate': 4.9250000000000004e-05, 'epoch': 0.03}\n",
      "{'loss': 0.7377, 'learning_rate': 4.9e-05, 'epoch': 0.04}\n",
      "{'loss': 0.7137, 'learning_rate': 4.875e-05, 'epoch': 0.05}\n",
      "{'loss': 0.6722, 'learning_rate': 4.85e-05, 'epoch': 0.06}\n",
      "{'loss': 0.6892, 'learning_rate': 4.825e-05, 'epoch': 0.07}\n",
      "{'loss': 0.695, 'learning_rate': 4.8e-05, 'epoch': 0.08}\n",
      "{'loss': 0.5834, 'learning_rate': 4.775e-05, 'epoch': 0.09}\n",
      "{'loss': 0.6365, 'learning_rate': 4.75e-05, 'epoch': 0.1}\n",
      "{'loss': 0.4702, 'learning_rate': 4.7249999999999997e-05, 'epoch': 0.11}\n",
      "{'loss': 0.8045, 'learning_rate': 4.7e-05, 'epoch': 0.12}\n",
      "{'loss': 0.4756, 'learning_rate': 4.6750000000000005e-05, 'epoch': 0.13}\n",
      "{'loss': 0.7267, 'learning_rate': 4.6500000000000005e-05, 'epoch': 0.14}\n",
      "{'loss': 0.5332, 'learning_rate': 4.6250000000000006e-05, 'epoch': 0.15}\n",
      "{'loss': 0.505, 'learning_rate': 4.600000000000001e-05, 'epoch': 0.16}\n",
      "{'loss': 0.5373, 'learning_rate': 4.575e-05, 'epoch': 0.17}\n",
      "{'loss': 0.8695, 'learning_rate': 4.55e-05, 'epoch': 0.18}\n",
      "{'loss': 0.5742, 'learning_rate': 4.525e-05, 'epoch': 0.19}\n",
      "{'loss': 0.582, 'learning_rate': 4.5e-05, 'epoch': 0.2}\n",
      "{'loss': 0.533, 'learning_rate': 4.4750000000000004e-05, 'epoch': 0.21}\n",
      "{'loss': 0.5798, 'learning_rate': 4.4500000000000004e-05, 'epoch': 0.22}\n",
      "{'loss': 0.5452, 'learning_rate': 4.4250000000000005e-05, 'epoch': 0.23}\n",
      "{'loss': 0.6488, 'learning_rate': 4.4000000000000006e-05, 'epoch': 0.24}\n",
      "{'loss': 0.6151, 'learning_rate': 4.375e-05, 'epoch': 0.25}\n",
      "{'loss': 0.5691, 'learning_rate': 4.35e-05, 'epoch': 0.26}\n",
      "{'loss': 0.4441, 'learning_rate': 4.325e-05, 'epoch': 0.27}\n",
      "{'loss': 0.4259, 'learning_rate': 4.3e-05, 'epoch': 0.28}\n",
      "{'loss': 0.533, 'learning_rate': 4.275e-05, 'epoch': 0.29}\n",
      "{'loss': 0.7062, 'learning_rate': 4.25e-05, 'epoch': 0.3}\n",
      "{'loss': 0.5241, 'learning_rate': 4.2250000000000004e-05, 'epoch': 0.31}\n",
      "{'loss': 0.6081, 'learning_rate': 4.2e-05, 'epoch': 0.32}\n",
      "{'loss': 0.5019, 'learning_rate': 4.175e-05, 'epoch': 0.33}\n",
      "{'loss': 0.63, 'learning_rate': 4.15e-05, 'epoch': 0.34}\n",
      "{'loss': 0.2867, 'learning_rate': 4.125e-05, 'epoch': 0.35}\n",
      "{'loss': 0.8845, 'learning_rate': 4.1e-05, 'epoch': 0.36}\n",
      "{'loss': 0.4923, 'learning_rate': 4.075e-05, 'epoch': 0.37}\n",
      "{'loss': 0.5696, 'learning_rate': 4.05e-05, 'epoch': 0.38}\n",
      "{'loss': 0.5223, 'learning_rate': 4.025e-05, 'epoch': 0.39}\n",
      "{'loss': 0.4391, 'learning_rate': 4e-05, 'epoch': 0.4}\n",
      "{'loss': 0.3436, 'learning_rate': 3.9750000000000004e-05, 'epoch': 0.41}\n",
      "{'loss': 0.6968, 'learning_rate': 3.9500000000000005e-05, 'epoch': 0.42}\n",
      "{'loss': 0.4109, 'learning_rate': 3.9250000000000005e-05, 'epoch': 0.43}\n",
      "{'loss': 0.5916, 'learning_rate': 3.9000000000000006e-05, 'epoch': 0.44}\n",
      "{'loss': 0.5607, 'learning_rate': 3.875e-05, 'epoch': 0.45}\n",
      "{'loss': 0.4695, 'learning_rate': 3.85e-05, 'epoch': 0.46}\n",
      "{'loss': 0.5656, 'learning_rate': 3.825e-05, 'epoch': 0.47}\n",
      "{'loss': 0.5958, 'learning_rate': 3.8e-05, 'epoch': 0.48}\n",
      "{'loss': 0.5277, 'learning_rate': 3.775e-05, 'epoch': 0.49}\n",
      "{'loss': 0.7566, 'learning_rate': 3.7500000000000003e-05, 'epoch': 0.5}\n",
      "{'loss': 0.7545, 'learning_rate': 3.7250000000000004e-05, 'epoch': 0.51}\n",
      "{'loss': 0.4597, 'learning_rate': 3.7e-05, 'epoch': 0.52}\n",
      "{'loss': 0.6105, 'learning_rate': 3.675e-05, 'epoch': 0.53}\n",
      "{'loss': 0.5855, 'learning_rate': 3.65e-05, 'epoch': 0.54}\n",
      "{'loss': 0.6417, 'learning_rate': 3.625e-05, 'epoch': 0.55}\n",
      "{'loss': 0.6892, 'learning_rate': 3.6e-05, 'epoch': 0.56}\n",
      "{'loss': 0.5347, 'learning_rate': 3.575e-05, 'epoch': 0.57}\n",
      "{'loss': 0.4689, 'learning_rate': 3.55e-05, 'epoch': 0.58}\n",
      "{'loss': 0.6651, 'learning_rate': 3.525e-05, 'epoch': 0.59}\n",
      "{'loss': 0.4253, 'learning_rate': 3.5e-05, 'epoch': 0.6}\n",
      "{'loss': 0.3521, 'learning_rate': 3.475e-05, 'epoch': 0.61}\n",
      "{'loss': 0.4578, 'learning_rate': 3.45e-05, 'epoch': 0.62}\n",
      "{'loss': 0.5709, 'learning_rate': 3.4250000000000006e-05, 'epoch': 0.63}\n",
      "{'loss': 0.4006, 'learning_rate': 3.4000000000000007e-05, 'epoch': 0.64}\n",
      "{'loss': 0.4882, 'learning_rate': 3.375000000000001e-05, 'epoch': 0.65}\n",
      "{'loss': 0.5429, 'learning_rate': 3.35e-05, 'epoch': 0.66}\n",
      "{'loss': 0.5076, 'learning_rate': 3.325e-05, 'epoch': 0.67}\n",
      "{'loss': 0.5544, 'learning_rate': 3.3e-05, 'epoch': 0.68}\n",
      "{'loss': 0.5654, 'learning_rate': 3.275e-05, 'epoch': 0.69}\n",
      "{'loss': 0.446, 'learning_rate': 3.2500000000000004e-05, 'epoch': 0.7}\n",
      "{'loss': 0.4582, 'learning_rate': 3.2250000000000005e-05, 'epoch': 0.71}\n",
      "{'loss': 0.3302, 'learning_rate': 3.2000000000000005e-05, 'epoch': 0.72}\n",
      "{'loss': 0.4141, 'learning_rate': 3.175e-05, 'epoch': 0.73}\n",
      "{'loss': 0.5339, 'learning_rate': 3.15e-05, 'epoch': 0.74}\n",
      "{'loss': 0.5399, 'learning_rate': 3.125e-05, 'epoch': 0.75}\n",
      "{'loss': 0.614, 'learning_rate': 3.1e-05, 'epoch': 0.76}\n",
      "{'loss': 0.5668, 'learning_rate': 3.075e-05, 'epoch': 0.77}\n",
      "{'loss': 0.3776, 'learning_rate': 3.05e-05, 'epoch': 0.78}\n",
      "{'loss': 0.6361, 'learning_rate': 3.025e-05, 'epoch': 0.79}\n",
      "{'loss': 0.5203, 'learning_rate': 3e-05, 'epoch': 0.8}\n",
      "{'loss': 0.4004, 'learning_rate': 2.975e-05, 'epoch': 0.81}\n",
      "{'loss': 0.4691, 'learning_rate': 2.95e-05, 'epoch': 0.82}\n",
      "{'loss': 0.3667, 'learning_rate': 2.925e-05, 'epoch': 0.83}\n",
      "{'loss': 0.593, 'learning_rate': 2.9e-05, 'epoch': 0.84}\n",
      "{'loss': 0.2869, 'learning_rate': 2.8749999999999997e-05, 'epoch': 0.85}\n",
      "{'loss': 0.5149, 'learning_rate': 2.8499999999999998e-05, 'epoch': 0.86}\n",
      "{'loss': 0.4682, 'learning_rate': 2.825e-05, 'epoch': 0.87}\n",
      "{'loss': 0.7287, 'learning_rate': 2.8000000000000003e-05, 'epoch': 0.88}\n",
      "{'loss': 0.368, 'learning_rate': 2.7750000000000004e-05, 'epoch': 0.89}\n",
      "{'loss': 0.4388, 'learning_rate': 2.7500000000000004e-05, 'epoch': 0.9}\n",
      "{'loss': 0.4827, 'learning_rate': 2.725e-05, 'epoch': 0.91}\n",
      "{'loss': 0.6076, 'learning_rate': 2.7000000000000002e-05, 'epoch': 0.92}\n",
      "{'loss': 0.45, 'learning_rate': 2.6750000000000003e-05, 'epoch': 0.93}\n",
      "{'loss': 0.3835, 'learning_rate': 2.6500000000000004e-05, 'epoch': 0.94}\n",
      "{'loss': 0.4849, 'learning_rate': 2.625e-05, 'epoch': 0.95}\n",
      "{'loss': 0.5984, 'learning_rate': 2.6000000000000002e-05, 'epoch': 0.96}\n",
      "{'loss': 0.3839, 'learning_rate': 2.5750000000000002e-05, 'epoch': 0.97}\n",
      "{'loss': 0.3799, 'learning_rate': 2.5500000000000003e-05, 'epoch': 0.98}\n",
      "{'loss': 0.4934, 'learning_rate': 2.525e-05, 'epoch': 0.99}\n",
      "{'loss': 0.6133, 'learning_rate': 2.5e-05, 'epoch': 1.0}\n"
     ]
    },
    {
     "data": {
      "application/vnd.jupyter.widget-view+json": {
       "model_id": "0d110dfecbc24ababe564e5acf580f3e",
       "version_major": 2,
       "version_minor": 0
      },
      "text/plain": [
       "  0%|          | 0/250 [00:00<?, ?it/s]"
      ]
     },
     "metadata": {},
     "output_type": "display_data"
    },
    {
     "name": "stdout",
     "output_type": "stream",
     "text": [
      "{'eval_loss': 0.5628081560134888, 'eval_runtime': 194.0226, 'eval_samples_per_second': 10.308, 'eval_steps_per_second': 1.289, 'epoch': 1.0}\n",
      "{'loss': 0.7753, 'learning_rate': 2.4750000000000002e-05, 'epoch': 1.01}\n",
      "{'loss': 0.3256, 'learning_rate': 2.45e-05, 'epoch': 1.02}\n",
      "{'loss': 0.4316, 'learning_rate': 2.425e-05, 'epoch': 1.03}\n",
      "{'loss': 0.4293, 'learning_rate': 2.4e-05, 'epoch': 1.04}\n",
      "{'loss': 0.401, 'learning_rate': 2.375e-05, 'epoch': 1.05}\n",
      "{'loss': 0.3017, 'learning_rate': 2.35e-05, 'epoch': 1.06}\n",
      "{'loss': 0.1825, 'learning_rate': 2.3250000000000003e-05, 'epoch': 1.07}\n",
      "{'loss': 0.5787, 'learning_rate': 2.3000000000000003e-05, 'epoch': 1.08}\n",
      "{'loss': 0.6064, 'learning_rate': 2.275e-05, 'epoch': 1.09}\n",
      "{'loss': 0.367, 'learning_rate': 2.25e-05, 'epoch': 1.1}\n",
      "{'loss': 0.4881, 'learning_rate': 2.2250000000000002e-05, 'epoch': 1.11}\n",
      "{'loss': 0.3178, 'learning_rate': 2.2000000000000003e-05, 'epoch': 1.12}\n",
      "{'loss': 0.4387, 'learning_rate': 2.175e-05, 'epoch': 1.13}\n",
      "{'loss': 0.5514, 'learning_rate': 2.15e-05, 'epoch': 1.14}\n",
      "{'loss': 0.4093, 'learning_rate': 2.125e-05, 'epoch': 1.15}\n",
      "{'loss': 0.4217, 'learning_rate': 2.1e-05, 'epoch': 1.16}\n",
      "{'loss': 0.3592, 'learning_rate': 2.075e-05, 'epoch': 1.17}\n",
      "{'loss': 0.3323, 'learning_rate': 2.05e-05, 'epoch': 1.18}\n",
      "{'loss': 0.4155, 'learning_rate': 2.025e-05, 'epoch': 1.19}\n",
      "{'loss': 0.4546, 'learning_rate': 2e-05, 'epoch': 1.2}\n",
      "{'loss': 0.3558, 'learning_rate': 1.9750000000000002e-05, 'epoch': 1.21}\n",
      "{'loss': 0.361, 'learning_rate': 1.9500000000000003e-05, 'epoch': 1.22}\n",
      "{'loss': 0.3437, 'learning_rate': 1.925e-05, 'epoch': 1.23}\n",
      "{'loss': 0.3217, 'learning_rate': 1.9e-05, 'epoch': 1.24}\n",
      "{'loss': 0.3565, 'learning_rate': 1.8750000000000002e-05, 'epoch': 1.25}\n",
      "{'loss': 0.4164, 'learning_rate': 1.85e-05, 'epoch': 1.26}\n",
      "{'loss': 0.6355, 'learning_rate': 1.825e-05, 'epoch': 1.27}\n",
      "{'loss': 0.2421, 'learning_rate': 1.8e-05, 'epoch': 1.28}\n",
      "{'loss': 0.3857, 'learning_rate': 1.775e-05, 'epoch': 1.29}\n",
      "{'loss': 0.5255, 'learning_rate': 1.75e-05, 'epoch': 1.3}\n",
      "{'loss': 0.2557, 'learning_rate': 1.725e-05, 'epoch': 1.31}\n",
      "{'loss': 0.2981, 'learning_rate': 1.7000000000000003e-05, 'epoch': 1.32}\n",
      "{'loss': 0.5239, 'learning_rate': 1.675e-05, 'epoch': 1.33}\n",
      "{'loss': 0.2875, 'learning_rate': 1.65e-05, 'epoch': 1.34}\n",
      "{'loss': 0.4303, 'learning_rate': 1.6250000000000002e-05, 'epoch': 1.35}\n",
      "{'loss': 0.6431, 'learning_rate': 1.6000000000000003e-05, 'epoch': 1.36}\n",
      "{'loss': 0.5081, 'learning_rate': 1.575e-05, 'epoch': 1.37}\n",
      "{'loss': 0.2857, 'learning_rate': 1.55e-05, 'epoch': 1.38}\n",
      "{'loss': 0.4924, 'learning_rate': 1.525e-05, 'epoch': 1.39}\n",
      "{'loss': 0.3807, 'learning_rate': 1.5e-05, 'epoch': 1.4}\n",
      "{'loss': 0.3199, 'learning_rate': 1.475e-05, 'epoch': 1.41}\n",
      "{'loss': 0.559, 'learning_rate': 1.45e-05, 'epoch': 1.42}\n",
      "{'loss': 0.3012, 'learning_rate': 1.4249999999999999e-05, 'epoch': 1.43}\n",
      "{'loss': 0.2658, 'learning_rate': 1.4000000000000001e-05, 'epoch': 1.44}\n",
      "{'loss': 0.3981, 'learning_rate': 1.3750000000000002e-05, 'epoch': 1.45}\n",
      "{'loss': 0.307, 'learning_rate': 1.3500000000000001e-05, 'epoch': 1.46}\n",
      "{'loss': 0.4065, 'learning_rate': 1.3250000000000002e-05, 'epoch': 1.47}\n",
      "{'loss': 0.3781, 'learning_rate': 1.3000000000000001e-05, 'epoch': 1.48}\n",
      "{'loss': 0.3728, 'learning_rate': 1.2750000000000002e-05, 'epoch': 1.49}\n",
      "{'loss': 0.5641, 'learning_rate': 1.25e-05, 'epoch': 1.5}\n",
      "{'loss': 0.5523, 'learning_rate': 1.225e-05, 'epoch': 1.51}\n",
      "{'loss': 0.307, 'learning_rate': 1.2e-05, 'epoch': 1.52}\n",
      "{'loss': 0.6935, 'learning_rate': 1.175e-05, 'epoch': 1.53}\n",
      "{'loss': 0.3755, 'learning_rate': 1.1500000000000002e-05, 'epoch': 1.54}\n",
      "{'loss': 0.1994, 'learning_rate': 1.125e-05, 'epoch': 1.55}\n",
      "{'loss': 0.4245, 'learning_rate': 1.1000000000000001e-05, 'epoch': 1.56}\n",
      "{'loss': 0.3325, 'learning_rate': 1.075e-05, 'epoch': 1.57}\n",
      "{'loss': 0.3493, 'learning_rate': 1.05e-05, 'epoch': 1.58}\n",
      "{'loss': 0.3344, 'learning_rate': 1.025e-05, 'epoch': 1.59}\n",
      "{'loss': 0.5721, 'learning_rate': 1e-05, 'epoch': 1.6}\n",
      "{'loss': 0.2811, 'learning_rate': 9.750000000000002e-06, 'epoch': 1.61}\n",
      "{'loss': 0.6085, 'learning_rate': 9.5e-06, 'epoch': 1.62}\n",
      "{'loss': 0.3918, 'learning_rate': 9.25e-06, 'epoch': 1.63}\n",
      "{'loss': 0.5006, 'learning_rate': 9e-06, 'epoch': 1.64}\n",
      "{'loss': 0.4476, 'learning_rate': 8.75e-06, 'epoch': 1.65}\n",
      "{'loss': 0.4659, 'learning_rate': 8.500000000000002e-06, 'epoch': 1.66}\n",
      "{'loss': 0.6379, 'learning_rate': 8.25e-06, 'epoch': 1.67}\n",
      "{'loss': 0.4119, 'learning_rate': 8.000000000000001e-06, 'epoch': 1.68}\n",
      "{'loss': 0.5305, 'learning_rate': 7.75e-06, 'epoch': 1.69}\n",
      "{'loss': 0.335, 'learning_rate': 7.5e-06, 'epoch': 1.7}\n",
      "{'loss': 0.3538, 'learning_rate': 7.25e-06, 'epoch': 1.71}\n",
      "{'loss': 0.4276, 'learning_rate': 7.000000000000001e-06, 'epoch': 1.72}\n",
      "{'loss': 0.3232, 'learning_rate': 6.750000000000001e-06, 'epoch': 1.73}\n",
      "{'loss': 0.4247, 'learning_rate': 6.5000000000000004e-06, 'epoch': 1.74}\n",
      "{'loss': 0.2892, 'learning_rate': 6.25e-06, 'epoch': 1.75}\n",
      "{'loss': 0.3495, 'learning_rate': 6e-06, 'epoch': 1.76}\n",
      "{'loss': 0.4514, 'learning_rate': 5.750000000000001e-06, 'epoch': 1.77}\n",
      "{'loss': 0.4549, 'learning_rate': 5.500000000000001e-06, 'epoch': 1.78}\n",
      "{'loss': 0.4693, 'learning_rate': 5.25e-06, 'epoch': 1.79}\n",
      "{'loss': 0.2513, 'learning_rate': 5e-06, 'epoch': 1.8}\n",
      "{'loss': 0.2986, 'learning_rate': 4.75e-06, 'epoch': 1.81}\n",
      "{'loss': 0.3177, 'learning_rate': 4.5e-06, 'epoch': 1.82}\n",
      "{'loss': 0.4246, 'learning_rate': 4.250000000000001e-06, 'epoch': 1.83}\n",
      "{'loss': 0.3548, 'learning_rate': 4.000000000000001e-06, 'epoch': 1.84}\n",
      "{'loss': 0.5157, 'learning_rate': 3.75e-06, 'epoch': 1.85}\n",
      "{'loss': 0.4826, 'learning_rate': 3.5000000000000004e-06, 'epoch': 1.86}\n",
      "{'loss': 0.2943, 'learning_rate': 3.2500000000000002e-06, 'epoch': 1.87}\n",
      "{'loss': 0.2153, 'learning_rate': 3e-06, 'epoch': 1.88}\n",
      "{'loss': 0.2532, 'learning_rate': 2.7500000000000004e-06, 'epoch': 1.89}\n",
      "{'loss': 0.2355, 'learning_rate': 2.5e-06, 'epoch': 1.9}\n",
      "{'loss': 0.3658, 'learning_rate': 2.25e-06, 'epoch': 1.91}\n",
      "{'loss': 0.2783, 'learning_rate': 2.0000000000000003e-06, 'epoch': 1.92}\n",
      "{'loss': 0.196, 'learning_rate': 1.7500000000000002e-06, 'epoch': 1.93}\n",
      "{'loss': 0.3256, 'learning_rate': 1.5e-06, 'epoch': 1.94}\n",
      "{'loss': 0.3738, 'learning_rate': 1.25e-06, 'epoch': 1.95}\n",
      "{'loss': 0.3689, 'learning_rate': 1.0000000000000002e-06, 'epoch': 1.96}\n",
      "{'loss': 0.6219, 'learning_rate': 7.5e-07, 'epoch': 1.97}\n",
      "{'loss': 0.6407, 'learning_rate': 5.000000000000001e-07, 'epoch': 1.98}\n",
      "{'loss': 0.6354, 'learning_rate': 2.5000000000000004e-07, 'epoch': 1.99}\n",
      "{'loss': 0.3706, 'learning_rate': 0.0, 'epoch': 2.0}\n"
     ]
    },
    {
     "data": {
      "application/vnd.jupyter.widget-view+json": {
       "model_id": "a7f2ba0533a64d269735bd670073d7ea",
       "version_major": 2,
       "version_minor": 0
      },
      "text/plain": [
       "  0%|          | 0/250 [00:00<?, ?it/s]"
      ]
     },
     "metadata": {},
     "output_type": "display_data"
    },
    {
     "name": "stdout",
     "output_type": "stream",
     "text": [
      "{'eval_loss': 0.506239116191864, 'eval_runtime': 187.8193, 'eval_samples_per_second': 10.649, 'eval_steps_per_second': 1.331, 'epoch': 2.0}\n",
      "{'train_runtime': 8965.719, 'train_samples_per_second': 1.785, 'train_steps_per_second': 0.223, 'train_loss': 0.4775597867369652, 'epoch': 2.0}\n"
     ]
    },
    {
     "data": {
      "text/plain": [
       "TrainOutput(global_step=2000, training_loss=0.4775597867369652, metrics={'train_runtime': 8965.719, 'train_samples_per_second': 1.785, 'train_steps_per_second': 0.223, 'train_loss': 0.4775597867369652, 'epoch': 2.0})"
      ]
     },
     "execution_count": 24,
     "metadata": {},
     "output_type": "execute_result"
    }
   ],
   "source": [
    "trainer.train()"
   ]
  },
  {
   "cell_type": "code",
   "execution_count": 25,
   "id": "fcf88e65",
   "metadata": {},
   "outputs": [
    {
     "data": {
      "application/vnd.jupyter.widget-view+json": {
       "model_id": "fe10354f571e4d4ca8bf4ae45578e4cb",
       "version_major": 2,
       "version_minor": 0
      },
      "text/plain": [
       "  0%|          | 0/250 [00:00<?, ?it/s]"
      ]
     },
     "metadata": {},
     "output_type": "display_data"
    },
    {
     "data": {
      "text/plain": [
       "{'eval_loss': 0.506239116191864,\n",
       " 'eval_runtime': 332.0361,\n",
       " 'eval_samples_per_second': 6.023,\n",
       " 'eval_steps_per_second': 0.753,\n",
       " 'epoch': 2.0}"
      ]
     },
     "execution_count": 25,
     "metadata": {},
     "output_type": "execute_result"
    }
   ],
   "source": [
    "trainer.evaluate()"
   ]
  },
  {
   "cell_type": "code",
   "execution_count": 30,
   "id": "7c84f693",
   "metadata": {},
   "outputs": [],
   "source": [
    "test_dataset = tokenized_dataset[\"test\"]"
   ]
  },
  {
   "cell_type": "code",
   "execution_count": 31,
   "id": "18f8c74b",
   "metadata": {},
   "outputs": [
    {
     "data": {
      "application/vnd.jupyter.widget-view+json": {
       "model_id": "8073b8207ec24612b74d9e2bf12accac",
       "version_major": 2,
       "version_minor": 0
      },
      "text/plain": [
       "  0%|          | 0/250 [00:00<?, ?it/s]"
      ]
     },
     "metadata": {},
     "output_type": "display_data"
    }
   ],
   "source": [
    "predictions = trainer.predict(test_dataset)"
   ]
  },
  {
   "cell_type": "code",
   "execution_count": 32,
   "id": "2821388d",
   "metadata": {},
   "outputs": [
    {
     "name": "stdout",
     "output_type": "stream",
     "text": [
      "              precision    recall  f1-score   support\n",
      "\n",
      "           0       0.75      0.52      0.61       285\n",
      "           1       0.17      0.06      0.09       139\n",
      "           2       0.87      0.97      0.92      1576\n",
      "\n",
      "    accuracy                           0.84      2000\n",
      "   macro avg       0.60      0.52      0.54      2000\n",
      "weighted avg       0.81      0.84      0.82      2000\n",
      "\n"
     ]
    }
   ],
   "source": [
    "from sklearn.metrics import classification_report\n",
    "\n",
    "y_true = test_dataset['label']\n",
    "y_pred = predictions.predictions.argmax(axis=1)\n",
    "print(classification_report(y_true, y_pred))"
   ]
  },
  {
   "cell_type": "code",
   "execution_count": 33,
   "id": "00cc4e45",
   "metadata": {},
   "outputs": [
    {
     "data": {
      "text/plain": [
       "('fine-tuned-bert-amazon\\\\tokenizer_config.json',\n",
       " 'fine-tuned-bert-amazon\\\\special_tokens_map.json',\n",
       " 'fine-tuned-bert-amazon\\\\vocab.txt',\n",
       " 'fine-tuned-bert-amazon\\\\added_tokens.json',\n",
       " 'fine-tuned-bert-amazon\\\\tokenizer.json')"
      ]
     },
     "execution_count": 33,
     "metadata": {},
     "output_type": "execute_result"
    }
   ],
   "source": [
    "trainer.save_model(\"fine-tuned-bert-amazon\")\n",
    "tokenizer.save_pretrained(\"fine-tuned-bert-amazon\")"
   ]
  }
 ],
 "metadata": {
  "kernelspec": {
   "display_name": "base",
   "language": "python",
   "name": "python3"
  },
  "language_info": {
   "codemirror_mode": {
    "name": "ipython",
    "version": 3
   },
   "file_extension": ".py",
   "mimetype": "text/x-python",
   "name": "python",
   "nbconvert_exporter": "python",
   "pygments_lexer": "ipython3",
   "version": "3.9.13"
  }
 },
 "nbformat": 4,
 "nbformat_minor": 5
}
